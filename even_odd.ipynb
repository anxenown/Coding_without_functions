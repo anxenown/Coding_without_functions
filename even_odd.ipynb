{
 "cells": [
  {
   "cell_type": "code",
   "execution_count": 28,
   "metadata": {},
   "outputs": [
    {
     "name": "stdout",
     "output_type": "stream",
     "text": [
      "No. is odd.\n"
     ]
    }
   ],
   "source": [
    "n= int(input('Enter any no. ='))\n",
    "if(n & 1 == 1):                      # Using AND operator.\n",
    "    print('No. is odd.')             # In binary even = 0 and odd = 1 \n",
    "else:\n",
    "    print('No. is even.')\n",
    "\n"
   ]
  },
  {
   "cell_type": "code",
   "execution_count": 67,
   "metadata": {},
   "outputs": [
    {
     "name": "stdout",
     "output_type": "stream",
     "text": [
      "No. is even.\n"
     ]
    }
   ],
   "source": [
    "n= int(input('Enter any no. ='))\n",
    "if(not(n & 1) == 0):                  # Using NAND operator. \n",
    "    print('No. is odd.')              # In binary even = 0 and odd = 1 but, after applying NAND gate there values interchanges.\n",
    "else:                                  \n",
    "    print('No. is even.')"
   ]
  },
  {
   "cell_type": "code",
   "execution_count": 64,
   "metadata": {},
   "outputs": [
    {
     "name": "stdout",
     "output_type": "stream",
     "text": [
      "No. is even.\n"
     ]
    }
   ],
   "source": [
    "n= int(input('Enter any no. ='))\n",
    "q= int(n/2)\n",
    "r= n - int(n/2)*2                     # Reminder = Dividend - Quotient * Divisor( which is 2)\n",
    "if(r==0):    \n",
    "    print('No. is even.')\n",
    "else:\n",
    "    print('No. is odd.')\n"
   ]
  },
  {
   "cell_type": "code",
   "execution_count": 77,
   "metadata": {},
   "outputs": [
    {
     "name": "stdout",
     "output_type": "stream",
     "text": [
      "No. is odd.\n"
     ]
    }
   ],
   "source": [
    "n= input('Enter any no. =')\n",
    "x= int(n[-1])                 # Addressing the last place value\n",
    "if(x == 0 or x == 2 or x == 4 or x == 6 or x == 8):          \n",
    "    print('No. is even.')\n",
    "else:\n",
    "    print('No. is odd.')    \n"
   ]
  }
 ],
 "metadata": {
  "kernelspec": {
   "display_name": "Python 3",
   "language": "python",
   "name": "python3"
  },
  "language_info": {
   "codemirror_mode": {
    "name": "ipython",
    "version": 3
   },
   "file_extension": ".py",
   "mimetype": "text/x-python",
   "name": "python",
   "nbconvert_exporter": "python",
   "pygments_lexer": "ipython3",
   "version": "3.9.4"
  },
  "orig_nbformat": 4
 },
 "nbformat": 4,
 "nbformat_minor": 2
}
